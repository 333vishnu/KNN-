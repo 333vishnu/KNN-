{
 "cells": [
  {
   "cell_type": "code",
   "execution_count": 1,
   "id": "ee80660d",
   "metadata": {
    "ExecuteTime": {
     "end_time": "2022-11-15T05:28:05.838885Z",
     "start_time": "2022-11-15T05:28:03.402926Z"
    }
   },
   "outputs": [],
   "source": [
    "import numpy as np\n",
    "import pandas as pd\n",
    "from matplotlib import pyplot as plt\n",
    "from sklearn.preprocessing import StandardScaler\n",
    "from sklearn import preprocessing\n",
    "import seaborn as sns\n",
    "from sklearn.neighbors import KNeighborsClassifier\n",
    "from sklearn.metrics import confusion_matrix\n",
    "from sklearn.model_selection import train_test_split\n",
    "from sklearn.metrics import accuracy_score\n",
    "from sklearn.model_selection import cross_val_score\n",
    "sns.set()"
   ]
  },
  {
   "cell_type": "code",
   "execution_count": 2,
   "id": "48255e99",
   "metadata": {
    "ExecuteTime": {
     "end_time": "2022-11-15T05:28:39.193679Z",
     "start_time": "2022-11-15T05:28:39.179269Z"
    }
   },
   "outputs": [],
   "source": [
    "df = pd.read_csv(\"glass.csv\")"
   ]
  },
  {
   "cell_type": "code",
   "execution_count": 3,
   "id": "2fdabd78",
   "metadata": {
    "ExecuteTime": {
     "end_time": "2022-11-15T05:29:04.801989Z",
     "start_time": "2022-11-15T05:29:04.782522Z"
    }
   },
   "outputs": [],
   "source": [
    "Gls = df.copy()"
   ]
  },
  {
   "cell_type": "code",
   "execution_count": 4,
   "id": "63a7635d",
   "metadata": {
    "ExecuteTime": {
     "end_time": "2022-11-15T05:30:19.317434Z",
     "start_time": "2022-11-15T05:30:19.305221Z"
    }
   },
   "outputs": [],
   "source": [
    "Gls.loc[df['Type'] == 1, 'Type'] = 'building_windows_float_processed'\n",
    "Gls.loc[df['Type'] == 2, 'Type'] = 'building_windows_non_float_processed' \n",
    "Gls.loc[df['Type'] == 3, 'Type'] = 'vehicle_windows_float_processed' \n",
    "Gls.loc[df['Type'] == 4, 'Type'] = 'vehicle_windows_non_float_processed' \n",
    "Gls.loc[df['Type'] == 5, 'Type'] = 'containers' \n",
    "Gls.loc[df['Type'] == 6, 'Type'] = 'tableware' \n",
    "Gls.loc[df['Type'] == 7, 'Type'] = 'headlamps' "
   ]
  },
  {
   "cell_type": "code",
   "execution_count": 6,
   "id": "ab1534a3",
   "metadata": {
    "ExecuteTime": {
     "end_time": "2022-11-15T05:31:00.167954Z",
     "start_time": "2022-11-15T05:31:00.143304Z"
    }
   },
   "outputs": [
    {
     "data": {
      "text/html": [
       "<div>\n",
       "<style scoped>\n",
       "    .dataframe tbody tr th:only-of-type {\n",
       "        vertical-align: middle;\n",
       "    }\n",
       "\n",
       "    .dataframe tbody tr th {\n",
       "        vertical-align: top;\n",
       "    }\n",
       "\n",
       "    .dataframe thead th {\n",
       "        text-align: right;\n",
       "    }\n",
       "</style>\n",
       "<table border=\"1\" class=\"dataframe\">\n",
       "  <thead>\n",
       "    <tr style=\"text-align: right;\">\n",
       "      <th></th>\n",
       "      <th>RI</th>\n",
       "      <th>Na</th>\n",
       "      <th>Mg</th>\n",
       "      <th>Al</th>\n",
       "      <th>Si</th>\n",
       "      <th>K</th>\n",
       "      <th>Ca</th>\n",
       "      <th>Ba</th>\n",
       "      <th>Fe</th>\n",
       "      <th>Type</th>\n",
       "    </tr>\n",
       "  </thead>\n",
       "  <tbody>\n",
       "    <tr>\n",
       "      <th>0</th>\n",
       "      <td>1.52101</td>\n",
       "      <td>13.64</td>\n",
       "      <td>4.49</td>\n",
       "      <td>1.10</td>\n",
       "      <td>71.78</td>\n",
       "      <td>0.06</td>\n",
       "      <td>8.75</td>\n",
       "      <td>0.0</td>\n",
       "      <td>0.00</td>\n",
       "      <td>building_windows_float_processed</td>\n",
       "    </tr>\n",
       "    <tr>\n",
       "      <th>1</th>\n",
       "      <td>1.51761</td>\n",
       "      <td>13.89</td>\n",
       "      <td>3.60</td>\n",
       "      <td>1.36</td>\n",
       "      <td>72.73</td>\n",
       "      <td>0.48</td>\n",
       "      <td>7.83</td>\n",
       "      <td>0.0</td>\n",
       "      <td>0.00</td>\n",
       "      <td>building_windows_float_processed</td>\n",
       "    </tr>\n",
       "    <tr>\n",
       "      <th>2</th>\n",
       "      <td>1.51618</td>\n",
       "      <td>13.53</td>\n",
       "      <td>3.55</td>\n",
       "      <td>1.54</td>\n",
       "      <td>72.99</td>\n",
       "      <td>0.39</td>\n",
       "      <td>7.78</td>\n",
       "      <td>0.0</td>\n",
       "      <td>0.00</td>\n",
       "      <td>building_windows_float_processed</td>\n",
       "    </tr>\n",
       "    <tr>\n",
       "      <th>3</th>\n",
       "      <td>1.51766</td>\n",
       "      <td>13.21</td>\n",
       "      <td>3.69</td>\n",
       "      <td>1.29</td>\n",
       "      <td>72.61</td>\n",
       "      <td>0.57</td>\n",
       "      <td>8.22</td>\n",
       "      <td>0.0</td>\n",
       "      <td>0.00</td>\n",
       "      <td>building_windows_float_processed</td>\n",
       "    </tr>\n",
       "    <tr>\n",
       "      <th>4</th>\n",
       "      <td>1.51742</td>\n",
       "      <td>13.27</td>\n",
       "      <td>3.62</td>\n",
       "      <td>1.24</td>\n",
       "      <td>73.08</td>\n",
       "      <td>0.55</td>\n",
       "      <td>8.07</td>\n",
       "      <td>0.0</td>\n",
       "      <td>0.00</td>\n",
       "      <td>building_windows_float_processed</td>\n",
       "    </tr>\n",
       "    <tr>\n",
       "      <th>5</th>\n",
       "      <td>1.51596</td>\n",
       "      <td>12.79</td>\n",
       "      <td>3.61</td>\n",
       "      <td>1.62</td>\n",
       "      <td>72.97</td>\n",
       "      <td>0.64</td>\n",
       "      <td>8.07</td>\n",
       "      <td>0.0</td>\n",
       "      <td>0.26</td>\n",
       "      <td>building_windows_float_processed</td>\n",
       "    </tr>\n",
       "    <tr>\n",
       "      <th>6</th>\n",
       "      <td>1.51743</td>\n",
       "      <td>13.30</td>\n",
       "      <td>3.60</td>\n",
       "      <td>1.14</td>\n",
       "      <td>73.09</td>\n",
       "      <td>0.58</td>\n",
       "      <td>8.17</td>\n",
       "      <td>0.0</td>\n",
       "      <td>0.00</td>\n",
       "      <td>building_windows_float_processed</td>\n",
       "    </tr>\n",
       "    <tr>\n",
       "      <th>7</th>\n",
       "      <td>1.51756</td>\n",
       "      <td>13.15</td>\n",
       "      <td>3.61</td>\n",
       "      <td>1.05</td>\n",
       "      <td>73.24</td>\n",
       "      <td>0.57</td>\n",
       "      <td>8.24</td>\n",
       "      <td>0.0</td>\n",
       "      <td>0.00</td>\n",
       "      <td>building_windows_float_processed</td>\n",
       "    </tr>\n",
       "    <tr>\n",
       "      <th>8</th>\n",
       "      <td>1.51918</td>\n",
       "      <td>14.04</td>\n",
       "      <td>3.58</td>\n",
       "      <td>1.37</td>\n",
       "      <td>72.08</td>\n",
       "      <td>0.56</td>\n",
       "      <td>8.30</td>\n",
       "      <td>0.0</td>\n",
       "      <td>0.00</td>\n",
       "      <td>building_windows_float_processed</td>\n",
       "    </tr>\n",
       "    <tr>\n",
       "      <th>9</th>\n",
       "      <td>1.51755</td>\n",
       "      <td>13.00</td>\n",
       "      <td>3.60</td>\n",
       "      <td>1.36</td>\n",
       "      <td>72.99</td>\n",
       "      <td>0.57</td>\n",
       "      <td>8.40</td>\n",
       "      <td>0.0</td>\n",
       "      <td>0.11</td>\n",
       "      <td>building_windows_float_processed</td>\n",
       "    </tr>\n",
       "  </tbody>\n",
       "</table>\n",
       "</div>"
      ],
      "text/plain": [
       "        RI     Na    Mg    Al     Si     K    Ca   Ba    Fe  \\\n",
       "0  1.52101  13.64  4.49  1.10  71.78  0.06  8.75  0.0  0.00   \n",
       "1  1.51761  13.89  3.60  1.36  72.73  0.48  7.83  0.0  0.00   \n",
       "2  1.51618  13.53  3.55  1.54  72.99  0.39  7.78  0.0  0.00   \n",
       "3  1.51766  13.21  3.69  1.29  72.61  0.57  8.22  0.0  0.00   \n",
       "4  1.51742  13.27  3.62  1.24  73.08  0.55  8.07  0.0  0.00   \n",
       "5  1.51596  12.79  3.61  1.62  72.97  0.64  8.07  0.0  0.26   \n",
       "6  1.51743  13.30  3.60  1.14  73.09  0.58  8.17  0.0  0.00   \n",
       "7  1.51756  13.15  3.61  1.05  73.24  0.57  8.24  0.0  0.00   \n",
       "8  1.51918  14.04  3.58  1.37  72.08  0.56  8.30  0.0  0.00   \n",
       "9  1.51755  13.00  3.60  1.36  72.99  0.57  8.40  0.0  0.11   \n",
       "\n",
       "                               Type  \n",
       "0  building_windows_float_processed  \n",
       "1  building_windows_float_processed  \n",
       "2  building_windows_float_processed  \n",
       "3  building_windows_float_processed  \n",
       "4  building_windows_float_processed  \n",
       "5  building_windows_float_processed  \n",
       "6  building_windows_float_processed  \n",
       "7  building_windows_float_processed  \n",
       "8  building_windows_float_processed  \n",
       "9  building_windows_float_processed  "
      ]
     },
     "execution_count": 6,
     "metadata": {},
     "output_type": "execute_result"
    }
   ],
   "source": [
    "Gls.head(10) "
   ]
  },
  {
   "cell_type": "code",
   "execution_count": 7,
   "id": "19afc541",
   "metadata": {
    "ExecuteTime": {
     "end_time": "2022-11-15T05:31:29.459455Z",
     "start_time": "2022-11-15T05:31:29.409172Z"
    }
   },
   "outputs": [
    {
     "data": {
      "text/html": [
       "<div>\n",
       "<style scoped>\n",
       "    .dataframe tbody tr th:only-of-type {\n",
       "        vertical-align: middle;\n",
       "    }\n",
       "\n",
       "    .dataframe tbody tr th {\n",
       "        vertical-align: top;\n",
       "    }\n",
       "\n",
       "    .dataframe thead th {\n",
       "        text-align: right;\n",
       "    }\n",
       "</style>\n",
       "<table border=\"1\" class=\"dataframe\">\n",
       "  <thead>\n",
       "    <tr style=\"text-align: right;\">\n",
       "      <th></th>\n",
       "      <th>RI</th>\n",
       "      <th>Na</th>\n",
       "      <th>Mg</th>\n",
       "      <th>Al</th>\n",
       "      <th>Si</th>\n",
       "      <th>K</th>\n",
       "      <th>Ca</th>\n",
       "      <th>Ba</th>\n",
       "      <th>Fe</th>\n",
       "    </tr>\n",
       "  </thead>\n",
       "  <tbody>\n",
       "    <tr>\n",
       "      <th>count</th>\n",
       "      <td>214.000000</td>\n",
       "      <td>214.000000</td>\n",
       "      <td>214.000000</td>\n",
       "      <td>214.000000</td>\n",
       "      <td>214.000000</td>\n",
       "      <td>214.000000</td>\n",
       "      <td>214.000000</td>\n",
       "      <td>214.000000</td>\n",
       "      <td>214.000000</td>\n",
       "    </tr>\n",
       "    <tr>\n",
       "      <th>mean</th>\n",
       "      <td>1.518365</td>\n",
       "      <td>13.407850</td>\n",
       "      <td>2.684533</td>\n",
       "      <td>1.444907</td>\n",
       "      <td>72.650935</td>\n",
       "      <td>0.497056</td>\n",
       "      <td>8.956963</td>\n",
       "      <td>0.175047</td>\n",
       "      <td>0.057009</td>\n",
       "    </tr>\n",
       "    <tr>\n",
       "      <th>std</th>\n",
       "      <td>0.003037</td>\n",
       "      <td>0.816604</td>\n",
       "      <td>1.442408</td>\n",
       "      <td>0.499270</td>\n",
       "      <td>0.774546</td>\n",
       "      <td>0.652192</td>\n",
       "      <td>1.423153</td>\n",
       "      <td>0.497219</td>\n",
       "      <td>0.097439</td>\n",
       "    </tr>\n",
       "    <tr>\n",
       "      <th>min</th>\n",
       "      <td>1.511150</td>\n",
       "      <td>10.730000</td>\n",
       "      <td>0.000000</td>\n",
       "      <td>0.290000</td>\n",
       "      <td>69.810000</td>\n",
       "      <td>0.000000</td>\n",
       "      <td>5.430000</td>\n",
       "      <td>0.000000</td>\n",
       "      <td>0.000000</td>\n",
       "    </tr>\n",
       "    <tr>\n",
       "      <th>25%</th>\n",
       "      <td>1.516522</td>\n",
       "      <td>12.907500</td>\n",
       "      <td>2.115000</td>\n",
       "      <td>1.190000</td>\n",
       "      <td>72.280000</td>\n",
       "      <td>0.122500</td>\n",
       "      <td>8.240000</td>\n",
       "      <td>0.000000</td>\n",
       "      <td>0.000000</td>\n",
       "    </tr>\n",
       "    <tr>\n",
       "      <th>50%</th>\n",
       "      <td>1.517680</td>\n",
       "      <td>13.300000</td>\n",
       "      <td>3.480000</td>\n",
       "      <td>1.360000</td>\n",
       "      <td>72.790000</td>\n",
       "      <td>0.555000</td>\n",
       "      <td>8.600000</td>\n",
       "      <td>0.000000</td>\n",
       "      <td>0.000000</td>\n",
       "    </tr>\n",
       "    <tr>\n",
       "      <th>75%</th>\n",
       "      <td>1.519157</td>\n",
       "      <td>13.825000</td>\n",
       "      <td>3.600000</td>\n",
       "      <td>1.630000</td>\n",
       "      <td>73.087500</td>\n",
       "      <td>0.610000</td>\n",
       "      <td>9.172500</td>\n",
       "      <td>0.000000</td>\n",
       "      <td>0.100000</td>\n",
       "    </tr>\n",
       "    <tr>\n",
       "      <th>max</th>\n",
       "      <td>1.533930</td>\n",
       "      <td>17.380000</td>\n",
       "      <td>4.490000</td>\n",
       "      <td>3.500000</td>\n",
       "      <td>75.410000</td>\n",
       "      <td>6.210000</td>\n",
       "      <td>16.190000</td>\n",
       "      <td>3.150000</td>\n",
       "      <td>0.510000</td>\n",
       "    </tr>\n",
       "  </tbody>\n",
       "</table>\n",
       "</div>"
      ],
      "text/plain": [
       "               RI          Na          Mg          Al          Si           K  \\\n",
       "count  214.000000  214.000000  214.000000  214.000000  214.000000  214.000000   \n",
       "mean     1.518365   13.407850    2.684533    1.444907   72.650935    0.497056   \n",
       "std      0.003037    0.816604    1.442408    0.499270    0.774546    0.652192   \n",
       "min      1.511150   10.730000    0.000000    0.290000   69.810000    0.000000   \n",
       "25%      1.516522   12.907500    2.115000    1.190000   72.280000    0.122500   \n",
       "50%      1.517680   13.300000    3.480000    1.360000   72.790000    0.555000   \n",
       "75%      1.519157   13.825000    3.600000    1.630000   73.087500    0.610000   \n",
       "max      1.533930   17.380000    4.490000    3.500000   75.410000    6.210000   \n",
       "\n",
       "               Ca          Ba          Fe  \n",
       "count  214.000000  214.000000  214.000000  \n",
       "mean     8.956963    0.175047    0.057009  \n",
       "std      1.423153    0.497219    0.097439  \n",
       "min      5.430000    0.000000    0.000000  \n",
       "25%      8.240000    0.000000    0.000000  \n",
       "50%      8.600000    0.000000    0.000000  \n",
       "75%      9.172500    0.000000    0.100000  \n",
       "max     16.190000    3.150000    0.510000  "
      ]
     },
     "execution_count": 7,
     "metadata": {},
     "output_type": "execute_result"
    }
   ],
   "source": [
    "Gls.describe()"
   ]
  },
  {
   "cell_type": "code",
   "execution_count": 8,
   "id": "ef499cfe",
   "metadata": {
    "ExecuteTime": {
     "end_time": "2022-11-15T05:32:43.270189Z",
     "start_time": "2022-11-15T05:32:42.980627Z"
    }
   },
   "outputs": [
    {
     "name": "stderr",
     "output_type": "stream",
     "text": [
      "C:\\Users\\Vishnu\\.conda\\lib\\site-packages\\seaborn\\categorical.py:3717: UserWarning: The `factorplot` function has been renamed to `catplot`. The original name will be removed in a future release. Please update your code. Note that the default `kind` in `factorplot` (`'point'`) has changed `'strip'` in `catplot`.\n",
      "  warnings.warn(msg)\n",
      "C:\\Users\\Vishnu\\.conda\\lib\\site-packages\\seaborn\\categorical.py:3723: UserWarning: The `size` parameter has been renamed to `height`; please update your code.\n",
      "  warnings.warn(msg, UserWarning)\n",
      "C:\\Users\\Vishnu\\.conda\\lib\\site-packages\\seaborn\\_decorators.py:36: FutureWarning: Pass the following variable as a keyword arg: x. From version 0.12, the only valid positional argument will be `data`, and passing other arguments without an explicit keyword will result in an error or misinterpretation.\n",
      "  warnings.warn(\n"
     ]
    },
    {
     "data": {
      "text/plain": [
       "<seaborn.axisgrid.FacetGrid at 0x28bd4408cd0>"
      ]
     },
     "execution_count": 8,
     "metadata": {},
     "output_type": "execute_result"
    },
    {
     "data": {
      "image/png": "[encoded data removed]",
      "text/plain": [
       "<Figure size 720x360 with 1 Axes>"
      ]
     },
     "metadata": {},
     "output_type": "display_data"
    }
   ],
   "source": [
    "sns.factorplot('Type', data=Gls, kind=\"count\",size = 5,aspect = 2)"
   ]
  },
  {
   "cell_type": "code",
   "execution_count": 9,
   "id": "0b00e664",
   "metadata": {
    "ExecuteTime": {
     "end_time": "2022-11-15T05:33:51.936406Z",
     "start_time": "2022-11-15T05:33:50.631154Z"
    }
   },
   "outputs": [
    {
     "data": {
      "image/png": "[encoded data removed]",
      "text/plain": [
       "<Figure size 936x1440 with 20 Axes>"
      ]
     },
     "metadata": {},
     "output_type": "display_data"
    }
   ],
   "source": [
    "Gls.plot(kind='box', subplots=True, layout=(4,5), figsize=(13,20), sharex=False, sharey=False)\n",
    "plt.show()"
   ]
  },
  {
   "cell_type": "code",
   "execution_count": 10,
   "id": "09a0c9b3",
   "metadata": {
    "ExecuteTime": {
     "end_time": "2022-11-15T05:34:32.821557Z",
     "start_time": "2022-11-15T05:34:31.314335Z"
    }
   },
   "outputs": [
    {
     "data": {
      "image/png": "[encoded data removed]",
      "text/plain": [
       "<Figure size 936x1440 with 20 Axes>"
      ]
     },
     "metadata": {},
     "output_type": "display_data"
    }
   ],
   "source": [
    "Gls.plot(kind='density', subplots=True, layout=(4,5), figsize=(13,20), sharex=False, sharey=False)\n",
    "plt.show()"
   ]
  },
  {
   "cell_type": "code",
   "execution_count": 11,
   "id": "549c8208",
   "metadata": {
    "ExecuteTime": {
     "end_time": "2022-11-15T05:35:31.813366Z",
     "start_time": "2022-11-15T05:35:31.794606Z"
    }
   },
   "outputs": [],
   "source": [
    "# correlation between variables\n",
    "cor = Gls.corr(method='pearson')"
   ]
  },
  {
   "cell_type": "code",
   "execution_count": 12,
   "id": "68035a53",
   "metadata": {
    "ExecuteTime": {
     "end_time": "2022-11-15T05:36:23.232214Z",
     "start_time": "2022-11-15T05:36:23.135412Z"
    }
   },
   "outputs": [
    {
     "data": {
      "text/html": [
       "<style type=\"text/css\">\n",
       "#T_8da06_row0_col0, #T_8da06_row1_col1, #T_8da06_row2_col2, #T_8da06_row3_col3, #T_8da06_row4_col4, #T_8da06_row5_col5, #T_8da06_row6_col6, #T_8da06_row7_col7, #T_8da06_row8_col8 {\n",
       "  background-color: #ffffff;\n",
       "  color: #000000;\n",
       "}\n",
       "#T_8da06_row0_col1 {\n",
       "  background-color: #150b1d;\n",
       "  color: #f1f1f1;\n",
       "}\n",
       "#T_8da06_row0_col2 {\n",
       "  background-color: #15524c;\n",
       "  color: #f1f1f1;\n",
       "}\n",
       "#T_8da06_row0_col3 {\n",
       "  background-color: #110815;\n",
       "  color: #f1f1f1;\n",
       "}\n",
       "#T_8da06_row0_col4, #T_8da06_row1_col8, #T_8da06_row2_col1, #T_8da06_row2_col3, #T_8da06_row2_col6, #T_8da06_row2_col7, #T_8da06_row4_col0, #T_8da06_row6_col1, #T_8da06_row6_col5, #T_8da06_row7_col2 {\n",
       "  background-color: #000000;\n",
       "  color: #f1f1f1;\n",
       "}\n",
       "#T_8da06_row0_col5 {\n",
       "  background-color: #080308;\n",
       "  color: #f1f1f1;\n",
       "}\n",
       "#T_8da06_row0_col6 {\n",
       "  background-color: #c9e5f0;\n",
       "  color: #000000;\n",
       "}\n",
       "#T_8da06_row0_col7 {\n",
       "  background-color: #2a6e3a;\n",
       "  color: #f1f1f1;\n",
       "}\n",
       "#T_8da06_row0_col8 {\n",
       "  background-color: #22693f;\n",
       "  color: #f1f1f1;\n",
       "}\n",
       "#T_8da06_row1_col0, #T_8da06_row7_col6 {\n",
       "  background-color: #15494e;\n",
       "  color: #f1f1f1;\n",
       "}\n",
       "#T_8da06_row1_col2, #T_8da06_row7_col8 {\n",
       "  background-color: #1a2543;\n",
       "  color: #f1f1f1;\n",
       "}\n",
       "#T_8da06_row1_col3 {\n",
       "  background-color: #6c7b31;\n",
       "  color: #f1f1f1;\n",
       "}\n",
       "#T_8da06_row1_col4 {\n",
       "  background-color: #206840;\n",
       "  color: #f1f1f1;\n",
       "}\n",
       "#T_8da06_row1_col5 {\n",
       "  background-color: #0f0611;\n",
       "  color: #f1f1f1;\n",
       "}\n",
       "#T_8da06_row1_col6 {\n",
       "  background-color: #1b1a36;\n",
       "  color: #f1f1f1;\n",
       "}\n",
       "#T_8da06_row1_col7 {\n",
       "  background-color: #be796a;\n",
       "  color: #f1f1f1;\n",
       "}\n",
       "#T_8da06_row2_col0 {\n",
       "  background-color: #185b48;\n",
       "  color: #f1f1f1;\n",
       "}\n",
       "#T_8da06_row2_col4, #T_8da06_row2_col5 {\n",
       "  background-color: #15504d;\n",
       "  color: #f1f1f1;\n",
       "}\n",
       "#T_8da06_row2_col8, #T_8da06_row4_col7 {\n",
       "  background-color: #16574b;\n",
       "  color: #f1f1f1;\n",
       "}\n",
       "#T_8da06_row3_col0, #T_8da06_row5_col6 {\n",
       "  background-color: #191129;\n",
       "  color: #f1f1f1;\n",
       "}\n",
       "#T_8da06_row3_col1 {\n",
       "  background-color: #2d7038;\n",
       "  color: #f1f1f1;\n",
       "}\n",
       "#T_8da06_row3_col2, #T_8da06_row5_col1 {\n",
       "  background-color: #020102;\n",
       "  color: #f1f1f1;\n",
       "}\n",
       "#T_8da06_row3_col4, #T_8da06_row7_col0 {\n",
       "  background-color: #337335;\n",
       "  color: #f1f1f1;\n",
       "}\n",
       "#T_8da06_row3_col5 {\n",
       "  background-color: #997944;\n",
       "  color: #f1f1f1;\n",
       "}\n",
       "#T_8da06_row3_col6 {\n",
       "  background-color: #1b1e3b;\n",
       "  color: #f1f1f1;\n",
       "}\n",
       "#T_8da06_row3_col7, #T_8da06_row7_col3 {\n",
       "  background-color: #d48abb;\n",
       "  color: #f1f1f1;\n",
       "}\n",
       "#T_8da06_row3_col8 {\n",
       "  background-color: #1a213e;\n",
       "  color: #f1f1f1;\n",
       "}\n",
       "#T_8da06_row4_col1, #T_8da06_row4_col6, #T_8da06_row5_col0 {\n",
       "  background-color: #192c47;\n",
       "  color: #f1f1f1;\n",
       "}\n",
       "#T_8da06_row4_col2, #T_8da06_row6_col4 {\n",
       "  background-color: #15444f;\n",
       "  color: #f1f1f1;\n",
       "}\n",
       "#T_8da06_row4_col3 {\n",
       "  background-color: #266c3c;\n",
       "  color: #f1f1f1;\n",
       "}\n",
       "#T_8da06_row4_col5 {\n",
       "  background-color: #19132d;\n",
       "  color: #f1f1f1;\n",
       "}\n",
       "#T_8da06_row4_col8 {\n",
       "  background-color: #1b1b38;\n",
       "  color: #f1f1f1;\n",
       "}\n",
       "#T_8da06_row5_col2 {\n",
       "  background-color: #2b6f39;\n",
       "  color: #f1f1f1;\n",
       "}\n",
       "#T_8da06_row5_col3 {\n",
       "  background-color: #bc7967;\n",
       "  color: #f1f1f1;\n",
       "}\n",
       "#T_8da06_row5_col4 {\n",
       "  background-color: #15474e;\n",
       "  color: #f1f1f1;\n",
       "}\n",
       "#T_8da06_row5_col7 {\n",
       "  background-color: #1f6741;\n",
       "  color: #f1f1f1;\n",
       "}\n",
       "#T_8da06_row5_col8 {\n",
       "  background-color: #17374d;\n",
       "  color: #f1f1f1;\n",
       "}\n",
       "#T_8da06_row6_col0 {\n",
       "  background-color: #cbe8f0;\n",
       "  color: #000000;\n",
       "}\n",
       "#T_8da06_row6_col2 {\n",
       "  background-color: #0c050e;\n",
       "  color: #f1f1f1;\n",
       "}\n",
       "#T_8da06_row6_col3 {\n",
       "  background-color: #1a2744;\n",
       "  color: #f1f1f1;\n",
       "}\n",
       "#T_8da06_row6_col7 {\n",
       "  background-color: #16554b;\n",
       "  color: #f1f1f1;\n",
       "}\n",
       "#T_8da06_row6_col8 {\n",
       "  background-color: #1d6443;\n",
       "  color: #f1f1f1;\n",
       "}\n",
       "#T_8da06_row7_col1 {\n",
       "  background-color: #8a7a3b;\n",
       "  color: #f1f1f1;\n",
       "}\n",
       "#T_8da06_row7_col4 {\n",
       "  background-color: #1b6145;\n",
       "  color: #f1f1f1;\n",
       "}\n",
       "#T_8da06_row7_col5 {\n",
       "  background-color: #16404e;\n",
       "  color: #f1f1f1;\n",
       "}\n",
       "#T_8da06_row8_col0 {\n",
       "  background-color: #757b33;\n",
       "  color: #f1f1f1;\n",
       "}\n",
       "#T_8da06_row8_col1 {\n",
       "  background-color: #0a030a;\n",
       "  color: #f1f1f1;\n",
       "}\n",
       "#T_8da06_row8_col2 {\n",
       "  background-color: #497830;\n",
       "  color: #f1f1f1;\n",
       "}\n",
       "#T_8da06_row8_col3 {\n",
       "  background-color: #195d48;\n",
       "  color: #f1f1f1;\n",
       "}\n",
       "#T_8da06_row8_col4, #T_8da06_row8_col7 {\n",
       "  background-color: #1c6344;\n",
       "  color: #f1f1f1;\n",
       "}\n",
       "#T_8da06_row8_col5 {\n",
       "  background-color: #154d4e;\n",
       "  color: #f1f1f1;\n",
       "}\n",
       "#T_8da06_row8_col6 {\n",
       "  background-color: #4e792f;\n",
       "  color: #f1f1f1;\n",
       "}\n",
       "</style>\n",
       "<table id=\"T_8da06\">\n",
       "  <thead>\n",
       "    <tr>\n",
       "      <th class=\"blank level0\" >&nbsp;</th>\n",
       "      <th id=\"T_8da06_level0_col0\" class=\"col_heading level0 col0\" >RI</th>\n",
       "      <th id=\"T_8da06_level0_col1\" class=\"col_heading level0 col1\" >Na</th>\n",
       "      <th id=\"T_8da06_level0_col2\" class=\"col_heading level0 col2\" >Mg</th>\n",
       "      <th id=\"T_8da06_level0_col3\" class=\"col_heading level0 col3\" >Al</th>\n",
       "      <th id=\"T_8da06_level0_col4\" class=\"col_heading level0 col4\" >Si</th>\n",
       "      <th id=\"T_8da06_level0_col5\" class=\"col_heading level0 col5\" >K</th>\n",
       "      <th id=\"T_8da06_level0_col6\" class=\"col_heading level0 col6\" >Ca</th>\n",
       "      <th id=\"T_8da06_level0_col7\" class=\"col_heading level0 col7\" >Ba</th>\n",
       "      <th id=\"T_8da06_level0_col8\" class=\"col_heading level0 col8\" >Fe</th>\n",
       "    </tr>\n",
       "  </thead>\n",
       "  <tbody>\n",
       "    <tr>\n",
       "      <th id=\"T_8da06_level0_row0\" class=\"row_heading level0 row0\" >RI</th>\n",
       "      <td id=\"T_8da06_row0_col0\" class=\"data row0 col0\" >1.000000</td>\n",
       "      <td id=\"T_8da06_row0_col1\" class=\"data row0 col1\" >-0.191885</td>\n",
       "      <td id=\"T_8da06_row0_col2\" class=\"data row0 col2\" >-0.122274</td>\n",
       "      <td id=\"T_8da06_row0_col3\" class=\"data row0 col3\" >-0.407326</td>\n",
       "      <td id=\"T_8da06_row0_col4\" class=\"data row0 col4\" >-0.542052</td>\n",
       "      <td id=\"T_8da06_row0_col5\" class=\"data row0 col5\" >-0.289833</td>\n",
       "      <td id=\"T_8da06_row0_col6\" class=\"data row0 col6\" >0.810403</td>\n",
       "      <td id=\"T_8da06_row0_col7\" class=\"data row0 col7\" >-0.000386</td>\n",
       "      <td id=\"T_8da06_row0_col8\" class=\"data row0 col8\" >0.143010</td>\n",
       "    </tr>\n",
       "    <tr>\n",
       "      <th id=\"T_8da06_level0_row1\" class=\"row_heading level0 row1\" >Na</th>\n",
       "      <td id=\"T_8da06_row1_col0\" class=\"data row1 col0\" >-0.191885</td>\n",
       "      <td id=\"T_8da06_row1_col1\" class=\"data row1 col1\" >1.000000</td>\n",
       "      <td id=\"T_8da06_row1_col2\" class=\"data row1 col2\" >-0.273732</td>\n",
       "      <td id=\"T_8da06_row1_col3\" class=\"data row1 col3\" >0.156794</td>\n",
       "      <td id=\"T_8da06_row1_col4\" class=\"data row1 col4\" >-0.069809</td>\n",
       "      <td id=\"T_8da06_row1_col5\" class=\"data row1 col5\" >-0.266087</td>\n",
       "      <td id=\"T_8da06_row1_col6\" class=\"data row1 col6\" >-0.275442</td>\n",
       "      <td id=\"T_8da06_row1_col7\" class=\"data row1 col7\" >0.326603</td>\n",
       "      <td id=\"T_8da06_row1_col8\" class=\"data row1 col8\" >-0.241346</td>\n",
       "    </tr>\n",
       "    <tr>\n",
       "      <th id=\"T_8da06_level0_row2\" class=\"row_heading level0 row2\" >Mg</th>\n",
       "      <td id=\"T_8da06_row2_col0\" class=\"data row2 col0\" >-0.122274</td>\n",
       "      <td id=\"T_8da06_row2_col1\" class=\"data row2 col1\" >-0.273732</td>\n",
       "      <td id=\"T_8da06_row2_col2\" class=\"data row2 col2\" >1.000000</td>\n",
       "      <td id=\"T_8da06_row2_col3\" class=\"data row2 col3\" >-0.481799</td>\n",
       "      <td id=\"T_8da06_row2_col4\" class=\"data row2 col4\" >-0.165927</td>\n",
       "      <td id=\"T_8da06_row2_col5\" class=\"data row2 col5\" >0.005396</td>\n",
       "      <td id=\"T_8da06_row2_col6\" class=\"data row2 col6\" >-0.443750</td>\n",
       "      <td id=\"T_8da06_row2_col7\" class=\"data row2 col7\" >-0.492262</td>\n",
       "      <td id=\"T_8da06_row2_col8\" class=\"data row2 col8\" >0.083060</td>\n",
       "    </tr>\n",
       "    <tr>\n",
       "      <th id=\"T_8da06_level0_row3\" class=\"row_heading level0 row3\" >Al</th>\n",
       "      <td id=\"T_8da06_row3_col0\" class=\"data row3 col0\" >-0.407326</td>\n",
       "      <td id=\"T_8da06_row3_col1\" class=\"data row3 col1\" >0.156794</td>\n",
       "      <td id=\"T_8da06_row3_col2\" class=\"data row3 col2\" >-0.481799</td>\n",
       "      <td id=\"T_8da06_row3_col3\" class=\"data row3 col3\" >1.000000</td>\n",
       "      <td id=\"T_8da06_row3_col4\" class=\"data row3 col4\" >-0.005524</td>\n",
       "      <td id=\"T_8da06_row3_col5\" class=\"data row3 col5\" >0.325958</td>\n",
       "      <td id=\"T_8da06_row3_col6\" class=\"data row3 col6\" >-0.259592</td>\n",
       "      <td id=\"T_8da06_row3_col7\" class=\"data row3 col7\" >0.479404</td>\n",
       "      <td id=\"T_8da06_row3_col8\" class=\"data row3 col8\" >-0.074402</td>\n",
       "    </tr>\n",
       "    <tr>\n",
       "      <th id=\"T_8da06_level0_row4\" class=\"row_heading level0 row4\" >Si</th>\n",
       "      <td id=\"T_8da06_row4_col0\" class=\"data row4 col0\" >-0.542052</td>\n",
       "      <td id=\"T_8da06_row4_col1\" class=\"data row4 col1\" >-0.069809</td>\n",
       "      <td id=\"T_8da06_row4_col2\" class=\"data row4 col2\" >-0.165927</td>\n",
       "      <td id=\"T_8da06_row4_col3\" class=\"data row4 col3\" >-0.005524</td>\n",
       "      <td id=\"T_8da06_row4_col4\" class=\"data row4 col4\" >1.000000</td>\n",
       "      <td id=\"T_8da06_row4_col5\" class=\"data row4 col5\" >-0.193331</td>\n",
       "      <td id=\"T_8da06_row4_col6\" class=\"data row4 col6\" >-0.208732</td>\n",
       "      <td id=\"T_8da06_row4_col7\" class=\"data row4 col7\" >-0.102151</td>\n",
       "      <td id=\"T_8da06_row4_col8\" class=\"data row4 col8\" >-0.094201</td>\n",
       "    </tr>\n",
       "    <tr>\n",
       "      <th id=\"T_8da06_level0_row5\" class=\"row_heading level0 row5\" >K</th>\n",
       "      <td id=\"T_8da06_row5_col0\" class=\"data row5 col0\" >-0.289833</td>\n",
       "      <td id=\"T_8da06_row5_col1\" class=\"data row5 col1\" >-0.266087</td>\n",
       "      <td id=\"T_8da06_row5_col2\" class=\"data row5 col2\" >0.005396</td>\n",
       "      <td id=\"T_8da06_row5_col3\" class=\"data row5 col3\" >0.325958</td>\n",
       "      <td id=\"T_8da06_row5_col4\" class=\"data row5 col4\" >-0.193331</td>\n",
       "      <td id=\"T_8da06_row5_col5\" class=\"data row5 col5\" >1.000000</td>\n",
       "      <td id=\"T_8da06_row5_col6\" class=\"data row5 col6\" >-0.317836</td>\n",
       "      <td id=\"T_8da06_row5_col7\" class=\"data row5 col7\" >-0.042618</td>\n",
       "      <td id=\"T_8da06_row5_col8\" class=\"data row5 col8\" >-0.007719</td>\n",
       "    </tr>\n",
       "    <tr>\n",
       "      <th id=\"T_8da06_level0_row6\" class=\"row_heading level0 row6\" >Ca</th>\n",
       "      <td id=\"T_8da06_row6_col0\" class=\"data row6 col0\" >0.810403</td>\n",
       "      <td id=\"T_8da06_row6_col1\" class=\"data row6 col1\" >-0.275442</td>\n",
       "      <td id=\"T_8da06_row6_col2\" class=\"data row6 col2\" >-0.443750</td>\n",
       "      <td id=\"T_8da06_row6_col3\" class=\"data row6 col3\" >-0.259592</td>\n",
       "      <td id=\"T_8da06_row6_col4\" class=\"data row6 col4\" >-0.208732</td>\n",
       "      <td id=\"T_8da06_row6_col5\" class=\"data row6 col5\" >-0.317836</td>\n",
       "      <td id=\"T_8da06_row6_col6\" class=\"data row6 col6\" >1.000000</td>\n",
       "      <td id=\"T_8da06_row6_col7\" class=\"data row6 col7\" >-0.112841</td>\n",
       "      <td id=\"T_8da06_row6_col8\" class=\"data row6 col8\" >0.124968</td>\n",
       "    </tr>\n",
       "    <tr>\n",
       "      <th id=\"T_8da06_level0_row7\" class=\"row_heading level0 row7\" >Ba</th>\n",
       "      <td id=\"T_8da06_row7_col0\" class=\"data row7 col0\" >-0.000386</td>\n",
       "      <td id=\"T_8da06_row7_col1\" class=\"data row7 col1\" >0.326603</td>\n",
       "      <td id=\"T_8da06_row7_col2\" class=\"data row7 col2\" >-0.492262</td>\n",
       "      <td id=\"T_8da06_row7_col3\" class=\"data row7 col3\" >0.479404</td>\n",
       "      <td id=\"T_8da06_row7_col4\" class=\"data row7 col4\" >-0.102151</td>\n",
       "      <td id=\"T_8da06_row7_col5\" class=\"data row7 col5\" >-0.042618</td>\n",
       "      <td id=\"T_8da06_row7_col6\" class=\"data row7 col6\" >-0.112841</td>\n",
       "      <td id=\"T_8da06_row7_col7\" class=\"data row7 col7\" >1.000000</td>\n",
       "      <td id=\"T_8da06_row7_col8\" class=\"data row7 col8\" >-0.058692</td>\n",
       "    </tr>\n",
       "    <tr>\n",
       "      <th id=\"T_8da06_level0_row8\" class=\"row_heading level0 row8\" >Fe</th>\n",
       "      <td id=\"T_8da06_row8_col0\" class=\"data row8 col0\" >0.143010</td>\n",
       "      <td id=\"T_8da06_row8_col1\" class=\"data row8 col1\" >-0.241346</td>\n",
       "      <td id=\"T_8da06_row8_col2\" class=\"data row8 col2\" >0.083060</td>\n",
       "      <td id=\"T_8da06_row8_col3\" class=\"data row8 col3\" >-0.074402</td>\n",
       "      <td id=\"T_8da06_row8_col4\" class=\"data row8 col4\" >-0.094201</td>\n",
       "      <td id=\"T_8da06_row8_col5\" class=\"data row8 col5\" >-0.007719</td>\n",
       "      <td id=\"T_8da06_row8_col6\" class=\"data row8 col6\" >0.124968</td>\n",
       "      <td id=\"T_8da06_row8_col7\" class=\"data row8 col7\" >-0.058692</td>\n",
       "      <td id=\"T_8da06_row8_col8\" class=\"data row8 col8\" >1.000000</td>\n",
       "    </tr>\n",
       "  </tbody>\n",
       "</table>\n"
      ],
      "text/plain": [
       "<pandas.io.formats.style.Styler at 0x28bd72ba8e0>"
      ]
     },
     "execution_count": 12,
     "metadata": {},
     "output_type": "execute_result"
    }
   ],
   "source": [
    "cor.style.background_gradient(cmap='cubehelix')"
   ]
  },
  {
   "cell_type": "code",
   "execution_count": 13,
   "id": "99f0fc26",
   "metadata": {
    "ExecuteTime": {
     "end_time": "2022-11-15T05:37:45.057158Z",
     "start_time": "2022-11-15T05:37:45.036658Z"
    }
   },
   "outputs": [],
   "source": [
    "# using KNN \n",
    "X = np.array(Gls.iloc[:,3:5]) \n",
    "y = np.array(Gls['Type'])"
   ]
  },
  {
   "cell_type": "code",
   "execution_count": 14,
   "id": "1567c6a7",
   "metadata": {
    "ExecuteTime": {
     "end_time": "2022-11-15T05:38:08.192761Z",
     "start_time": "2022-11-15T05:38:08.186262Z"
    }
   },
   "outputs": [],
   "source": [
    "X_train, X_test, y_train, y_test = train_test_split(X, y, test_size=0.2, random_state=1, stratify=y)"
   ]
  },
  {
   "cell_type": "code",
   "execution_count": 15,
   "id": "cf951fa2",
   "metadata": {
    "ExecuteTime": {
     "end_time": "2022-11-15T05:38:32.990581Z",
     "start_time": "2022-11-15T05:38:32.982534Z"
    }
   },
   "outputs": [],
   "source": [
    "k_values = np.arange(1,25)\n",
    "train_accuracy = []\n",
    "test_accuracy = []"
   ]
  },
  {
   "cell_type": "code",
   "execution_count": 16,
   "id": "be7faccf",
   "metadata": {
    "ExecuteTime": {
     "end_time": "2022-11-15T05:38:52.164980Z",
     "start_time": "2022-11-15T05:38:51.944945Z"
    }
   },
   "outputs": [],
   "source": [
    "for i, k in enumerate(k_values):\n",
    "    knn = KNeighborsClassifier(n_neighbors=k)\n",
    "    knn.fit(X_train,y_train)\n",
    "    train_accuracy.append(knn.score(X_train, y_train))\n",
    "    test_accuracy.append(knn.score(X_test, y_test))"
   ]
  },
  {
   "cell_type": "code",
   "execution_count": 17,
   "id": "9db8fa44",
   "metadata": {
    "ExecuteTime": {
     "end_time": "2022-11-15T05:39:25.716001Z",
     "start_time": "2022-11-15T05:39:25.390746Z"
    }
   },
   "outputs": [
    {
     "data": {
      "image/png": "[encoded data removed]",
      "text/plain": [
       "<Figure size 864x648 with 1 Axes>"
      ]
     },
     "metadata": {},
     "output_type": "display_data"
    }
   ],
   "source": [
    "plt.figure(figsize=[12,9])\n",
    "plt.plot(k_values, test_accuracy, label = 'Testing Accuracy')\n",
    "plt.plot(k_values, train_accuracy, label = 'Training Accuracy')\n",
    "plt.legend()\n",
    "plt.title('-value VS Accuracy')\n",
    "plt.xlabel('Number of Neighbors')\n",
    "plt.ylabel('Accuracy')\n",
    "plt.xticks(k_values)\n",
    "plt.show()"
   ]
  },
  {
   "cell_type": "code",
   "execution_count": 18,
   "id": "8c1a93aa",
   "metadata": {
    "ExecuteTime": {
     "end_time": "2022-11-15T05:40:23.526700Z",
     "start_time": "2022-11-15T05:40:23.519114Z"
    }
   },
   "outputs": [],
   "source": [
    "## algorithm\n",
    "knn = KNeighborsClassifier(n_neighbors=4)"
   ]
  },
  {
   "cell_type": "code",
   "execution_count": 19,
   "id": "22ce7fa2",
   "metadata": {
    "ExecuteTime": {
     "end_time": "2022-11-15T05:40:39.244336Z",
     "start_time": "2022-11-15T05:40:39.233737Z"
    }
   },
   "outputs": [],
   "source": [
    "knn.fit(X_train, y_train)\n",
    "y_pred_KNeighborsClassifier = knn.predict(X_test)"
   ]
  },
  {
   "cell_type": "code",
   "execution_count": 20,
   "id": "d87c67e7",
   "metadata": {
    "ExecuteTime": {
     "end_time": "2022-11-15T05:40:53.161589Z",
     "start_time": "2022-11-15T05:40:53.154280Z"
    }
   },
   "outputs": [],
   "source": [
    "scores = []\n",
    "cv_scores = []"
   ]
  },
  {
   "cell_type": "code",
   "execution_count": 21,
   "id": "0b04ae7c",
   "metadata": {
    "ExecuteTime": {
     "end_time": "2022-11-15T05:41:06.788786Z",
     "start_time": "2022-11-15T05:41:06.778980Z"
    }
   },
   "outputs": [],
   "source": [
    "score = accuracy_score(y_pred_KNeighborsClassifier,y_test)\n",
    "scores.append(score)"
   ]
  },
  {
   "cell_type": "code",
   "execution_count": 22,
   "id": "1d8c5f55",
   "metadata": {
    "ExecuteTime": {
     "end_time": "2022-11-15T05:41:20.026538Z",
     "start_time": "2022-11-15T05:41:19.969048Z"
    }
   },
   "outputs": [
    {
     "name": "stderr",
     "output_type": "stream",
     "text": [
      "C:\\Users\\Vishnu\\.conda\\lib\\site-packages\\sklearn\\model_selection\\_split.py:676: UserWarning: The least populated class in y has only 9 members, which is less than n_splits=10.\n",
      "  warnings.warn(\n"
     ]
    }
   ],
   "source": [
    "score_knn=cross_val_score(knn, X,y, cv=10)"
   ]
  },
  {
   "cell_type": "code",
   "execution_count": 23,
   "id": "f471b6f1",
   "metadata": {
    "ExecuteTime": {
     "end_time": "2022-11-15T05:41:43.859330Z",
     "start_time": "2022-11-15T05:41:43.845830Z"
    }
   },
   "outputs": [
    {
     "data": {
      "text/plain": [
       "0.6127705627705629"
      ]
     },
     "execution_count": 23,
     "metadata": {},
     "output_type": "execute_result"
    }
   ],
   "source": [
    "score_knn.mean()"
   ]
  },
  {
   "cell_type": "code",
   "execution_count": 24,
   "id": "cc5b69b2",
   "metadata": {
    "ExecuteTime": {
     "end_time": "2022-11-15T05:42:02.327552Z",
     "start_time": "2022-11-15T05:42:02.319537Z"
    }
   },
   "outputs": [
    {
     "data": {
      "text/plain": [
       "0.23547117559816877"
      ]
     },
     "execution_count": 24,
     "metadata": {},
     "output_type": "execute_result"
    }
   ],
   "source": [
    "score_knn.std()*2"
   ]
  },
  {
   "cell_type": "code",
   "execution_count": 25,
   "id": "5fdef866",
   "metadata": {
    "ExecuteTime": {
     "end_time": "2022-11-15T05:42:18.527411Z",
     "start_time": "2022-11-15T05:42:18.509646Z"
    }
   },
   "outputs": [],
   "source": [
    "cv_score = score_knn.mean()"
   ]
  },
  {
   "cell_type": "code",
   "execution_count": 26,
   "id": "32170a93",
   "metadata": {
    "ExecuteTime": {
     "end_time": "2022-11-15T05:42:33.712146Z",
     "start_time": "2022-11-15T05:42:33.706969Z"
    }
   },
   "outputs": [],
   "source": [
    "cv_scores.append(cv_score)"
   ]
  },
  {
   "cell_type": "code",
   "execution_count": 27,
   "id": "b9c9cbb2",
   "metadata": {
    "ExecuteTime": {
     "end_time": "2022-11-15T05:42:47.429192Z",
     "start_time": "2022-11-15T05:42:47.412660Z"
    }
   },
   "outputs": [
    {
     "data": {
      "text/plain": [
       "[0.6127705627705629]"
      ]
     },
     "execution_count": 27,
     "metadata": {},
     "output_type": "execute_result"
    }
   ],
   "source": [
    "cv_scores"
   ]
  },
  {
   "cell_type": "code",
   "execution_count": 29,
   "id": "f62e5295",
   "metadata": {
    "ExecuteTime": {
     "end_time": "2022-11-15T05:43:59.761338Z",
     "start_time": "2022-11-15T05:43:59.746606Z"
    }
   },
   "outputs": [
    {
     "name": "stdout",
     "output_type": "stream",
     "text": [
      " Accuracy of the model is 61.27% approx.\n"
     ]
    }
   ],
   "source": [
    "print(\" Accuracy of the model is 61.27% approx.\")"
   ]
  },
  {
   "cell_type": "code",
   "execution_count": null,
   "id": "cfc1b7f3",
   "metadata": {},
   "outputs": [],
   "source": []
  },
  {
   "cell_type": "code",
   "execution_count": null,
   "id": "52924ef0",
   "metadata": {},
   "outputs": [],
   "source": []
  },
  {
   "cell_type": "code",
   "execution_count": null,
   "id": "fa7ee8a7",
   "metadata": {},
   "outputs": [],
   "source": []
  },
  {
   "cell_type": "code",
   "execution_count": null,
   "id": "8ab3a273",
   "metadata": {},
   "outputs": [],
   "source": []
  }
 ],
 "metadata": {
  "kernelspec": {
   "display_name": "Python 3 (ipykernel)",
   "language": "python",
   "name": "python3"
  },
  "language_info": {
   "codemirror_mode": {
    "name": "ipython",
    "version": 3
   },
   "file_extension": ".py",
   "mimetype": "text/x-python",
   "name": "python",
   "nbconvert_exporter": "python",
   "pygments_lexer": "ipython3",
   "version": "3.9.12"
  }
 },
 "nbformat": 4,
 "nbformat_minor": 5
}
